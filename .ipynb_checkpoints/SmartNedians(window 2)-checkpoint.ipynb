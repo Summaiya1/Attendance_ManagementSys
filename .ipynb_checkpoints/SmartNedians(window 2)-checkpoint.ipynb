{
 "cells": [
  {
   "cell_type": "code",
   "execution_count": 1,
   "metadata": {},
   "outputs": [],
   "source": [
    "from tkinter import *\n",
    "from PIL import ImageTk\n",
    "from PIL import Image\n",
    "import PIL.Image\n",
    "import sys\n",
    "from tkinter import font\n",
    "import csv"
   ]
  },
  {
   "cell_type": "code",
   "execution_count": null,
   "metadata": {},
   "outputs": [],
   "source": [
    "def view_passwords():\n",
    "    listbox = Listbox(win1, width=1050, height=700, bd=0, bg='black', fg='white', font=\"Candara 12 bold\")\n",
    "    listbox.place(x=300,y=1)\n",
    "    with open('users_passwords.csv', 'r') as f:\n",
    "        reader = csv.reader(f)\n",
    "        your_list = list(reader)\n",
    "        for item in your_list:\n",
    "            listbox.insert(\"end\",item[0]+'   ---------->    '+item[1])\n",
    "\n",
    "\n",
    "\n",
    "\n",
    "win1=Tk()\n",
    "win1.title('Smart_NEDIANS')\n",
    "win1.geometry('1350x700+0+0')\n",
    "dashboard_frame=Frame(win1,width=300,height=800,bg='#1C2739')\n",
    "dashboard_frame.place(x=0,y=0)\n",
    "dashboard_frame.tkraise()\n",
    "\n",
    "img1=PhotoImage(file='divider-logo.png')\n",
    "img0=PhotoImage(file='dashboard-logo.png')\n",
    "\n",
    "\n",
    "\n",
    "dashboard_label = Label(image=img0, bg='#1C2739')\n",
    "dashboard_label.place(x=5, y=3)\n",
    "divider_logo = Label(image=img1, bg='#1C2739')\n",
    "divider_logo.place(x=5, y=50)\n",
    "\n",
    "font_1 = font.Font(family = 'helvetica',size = 12,weight = \"bold\")\n",
    "#img2=PhotoImage(file='')\n",
    "\n",
    "b1 = Button(text='Attendance Sheet',cursor=\"circle\",fg='black',bg='coral',width=25,height=2)\n",
    "b1['font']=font_1\n",
    "b1.place(x=5,y=105)\n",
    "\n",
    "b2 = Button(text='Passwords Sheet',cursor=\"circle\",fg='black',bg='coral',width=25,height=2,command=view_passwords)\n",
    "b2['font']=font_1\n",
    "b2.place(x=5,y=155)\n",
    "\n",
    "b2 = Button(text='Enter new teacher',cursor=\"circle\",fg='black',bg='coral',width=25,height=2)\n",
    "b2['font']=font_1\n",
    "b2.place(x=5,y=205)\n",
    "\n",
    "b3 = Button(text='Sent  Email',cursor=\"circle\",fg='black',bg='coral',width=25,height=2)\n",
    "b3['font']=font_1\n",
    "b3.place(x=5,y=255)\n",
    "\n",
    "b4 = Button(text='Print Attendance\\n Sheet',cursor=\"circle\",fg='black',bg='coral',width=25,height=2)\n",
    "b4['font']=font_1\n",
    "b4.place(x=5,y=305)\n",
    "\n",
    "win1.mainloop()"
   ]
  },
  {
   "cell_type": "code",
   "execution_count": null,
   "metadata": {},
   "outputs": [],
   "source": []
  }
 ],
 "metadata": {
  "kernelspec": {
   "display_name": "Python 3",
   "language": "python",
   "name": "python3"
  },
  "language_info": {
   "codemirror_mode": {
    "name": "ipython",
    "version": 3
   },
   "file_extension": ".py",
   "mimetype": "text/x-python",
   "name": "python",
   "nbconvert_exporter": "python",
   "pygments_lexer": "ipython3",
   "version": "3.7.3"
  }
 },
 "nbformat": 4,
 "nbformat_minor": 2
}
