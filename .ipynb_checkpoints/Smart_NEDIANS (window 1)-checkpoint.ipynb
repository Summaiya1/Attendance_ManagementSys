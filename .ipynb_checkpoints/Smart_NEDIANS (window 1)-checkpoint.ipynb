{
 "cells": [
  {
   "cell_type": "code",
   "execution_count": 1,
   "metadata": {},
   "outputs": [],
   "source": [
    "#importing\n",
    "from tkinter import *\n",
    "from PIL import ImageTk\n",
    "from PIL import Image\n",
    "import PIL.Image\n",
    "import sys\n",
    "from tkinter import font\n",
    "global win"
   ]
  },
  {
   "cell_type": "code",
   "execution_count": 2,
   "metadata": {},
   "outputs": [],
   "source": [
    "def checker():\n",
    "    global e1,e2\n",
    "    username = e1.get()\n",
    "    password = e2.get()\n",
    "    check_password(username,password)"
   ]
  },
  {
   "cell_type": "code",
   "execution_count": 11,
   "metadata": {},
   "outputs": [],
   "source": [
    "def check_password(u,p):\n",
    "    import csv\n",
    "    from tkinter import messagebox\n",
    "    with open(\"CSV_files//users_passwords.csv\",'r') as f:\n",
    "        x = csv.reader(f)\n",
    "        temp = 1\n",
    "        for i in x:\n",
    "            for j in range(1):\n",
    "                if(i[j]== u and i[j+1] == p ):\n",
    "                    win.destroy()# current page destroy\n",
    "                    child()\n",
    "                    temp = 0\n",
    "                    break\n",
    "                else:\n",
    "                    if(u== '' and p == '' ):\n",
    "                        temp=2\n",
    "        if(temp != 0 and temp!=2) :\n",
    "             msg = messagebox.showinfo(\"message\",'Sorry incorrect Username or password') \n",
    "        if(temp==2):\n",
    "             msg = messagebox.showinfo(\"message\",'Please Enter username and password') "
   ]
  },
  {
   "cell_type": "code",
   "execution_count": 12,
   "metadata": {},
   "outputs": [],
   "source": [
    "#WINDOW 1\n",
    "win = Tk()\n",
    "win.title('Smart_NEDIANS')\n",
    "win.geometry('1350x700+0+0')\n",
    "\n",
    "#FRAMES\n",
    "topframe = Frame(win)\n",
    "topframe.pack()\n",
    "\n",
    "#For background Image\n",
    "image = PIL.Image.open('Images_Used//1.jpg')\n",
    "back_image = ImageTk.PhotoImage(image)\n",
    "label_ = Label(image = back_image)\n",
    "label_.pack()\n",
    "\n",
    "#For button\n",
    "b1_image = PhotoImage(file=\"Images_Used//login.png\")\n",
    "b1 = Button(image=b1_image,cursor=\"circle\",command=checker)\n",
    "b1.place(x=720,y=550)\n",
    "b2_image = PhotoImage(file=\"Images_Used//cancel.png\")\n",
    "b2 = Button(image=b2_image,cursor=\"circle\")\n",
    "b2.place(x=1020,y=550)\n",
    "\n",
    "#For Entry box\n",
    "e1 = Entry(win,bd=5,fg=\"magenta4\",relief=GROOVE,width=30)\n",
    "e1.place(x=990,y=300)\n",
    "e2 = Entry(win,bd=5,fg=\"magenta4\",show=\"*\",relief=GROOVE,width=30)\n",
    "e2.place(x=990,y=400)\n",
    "\n",
    "#For text box\n",
    "font_1 = font.Font(family = 'helvetica',size = 12,weight = \"bold\")\n",
    "label_1 = Label(win,text='USERNAME :',fg=\"blue violet\")\n",
    "label_1['font']= font_1\n",
    "label_2 = Label(win,text=\"PASSWORD :\",fg=\"blue violet\")\n",
    "label_2['font'] = font_1\n",
    "label_1.place(x=800,y=300)\n",
    "label_2.place(x=800,y=400)\n",
    "\n",
    "#For icon\n",
    "win.iconbitmap(\"Images_Used//smart-nedians-logo.ico\")\n",
    "win.mainloop()"
   ]
  },
  {
   "cell_type": "code",
   "execution_count": null,
   "metadata": {},
   "outputs": [],
   "source": []
  }
 ],
 "metadata": {
  "kernelspec": {
   "display_name": "Python 3",
   "language": "python",
   "name": "python3"
  },
  "language_info": {
   "codemirror_mode": {
    "name": "ipython",
    "version": 3
   },
   "file_extension": ".py",
   "mimetype": "text/x-python",
   "name": "python",
   "nbconvert_exporter": "python",
   "pygments_lexer": "ipython3",
   "version": "3.7.3"
  }
 },
 "nbformat": 4,
 "nbformat_minor": 2
}
